{
 "cells": [
  {
   "cell_type": "code",
   "execution_count": null,
   "metadata": {},
   "outputs": [],
   "source": [
    "# Import modules\n",
    "import pandas as pd"
   ]
  },
  {
   "cell_type": "code",
   "execution_count": null,
   "metadata": {},
   "outputs": [],
   "source": [
    "# Read csv into dataframe\n",
    "df = pd.read_csv('data/my_dataset_here.csv')\n",
    "df.head()"
   ]
  },
  {
   "cell_type": "code",
   "execution_count": null,
   "metadata": {},
   "outputs": [],
   "source": [
    "# extract comments and categorisation column\n",
    "comments = df.loc[:, 'text', 'toxic']\n",
    "comments"
   ]
  },
  {
   "cell_type": "code",
   "execution_count": null,
   "metadata": {},
   "outputs": [],
   "source": [
    "# Pull 2500 rows of each category for training data\n",
    "trainingData = pd.DataFrame(columns=['comment', 'toxic'])\n",
    "clean = comments[comments['toxic']==False].reset_index()\n",
    "toxic = comments[comments['toxic']==True].reset_index()\n",
    "trainingData = pd.concat([toxic.loc[0:1999], clean.loc[0:1999]]).reset_index().loc[:, 'comment':'toxic']\n",
    "trainingData"
   ]
  },
  {
   "cell_type": "code",
   "execution_count": null,
   "metadata": {},
   "outputs": [],
   "source": [
    "# Pull 5 rows of each category for testing data\n",
    "testingData = pd.DataFrame(columns=['comment', 'toxic'])\n",
    "testingData = pd.concat([toxic.loc[2500:2504, 'comment':'toxic'], clean.loc[2500:2504, 'comment':'toxic']]).reset_index().loc[:, 'comment':'toxic']\n",
    "testingData"
   ]
  },
  {
   "cell_type": "code",
   "execution_count": null,
   "metadata": {},
   "outputs": [],
   "source": [
    "# Write the data to json files\n",
    "with open('data/trainingData.json', 'w') as f:\n",
    "    f.write(trainingData.to_json(orient = \"records\"))\n",
    "    \n",
    "with open('data/testingData.json', 'w') as f:\n",
    "    f.write(testingData.to_json(orient = \"records\"))\n",
    "    \n",
    "print('Successfully stored json files.')"
   ]
  }
 ],
 "metadata": {
  "kernelspec": {
   "display_name": "Python 3",
   "language": "python",
   "name": "python3"
  },
  "language_info": {
   "codemirror_mode": {
    "name": "ipython",
    "version": 3
   },
   "file_extension": ".py",
   "mimetype": "text/x-python",
   "name": "python",
   "nbconvert_exporter": "python",
   "pygments_lexer": "ipython3",
   "version": "3.8.3"
  }
 },
 "nbformat": 4,
 "nbformat_minor": 4
}
